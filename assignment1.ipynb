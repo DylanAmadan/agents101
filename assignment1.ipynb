{
 "cells": [
  {
   "cell_type": "markdown",
   "metadata": {},
   "source": [
    "# Notes Module 2"
   ]
  },
  {
   "cell_type": "code",
   "execution_count": 3,
   "metadata": {},
   "outputs": [],
   "source": [
    "import pandas as pd\n"
   ]
  },
  {
   "cell_type": "code",
   "execution_count": 4,
   "metadata": {},
   "outputs": [
    {
     "name": "stdout",
     "output_type": "stream",
     "text": [
      "<class 'dict'>\n",
      "Age\n",
      "1 : Name\n",
      "2 : Age\n",
      "3 : Salary\n",
      "4 : Salary\n"
     ]
    }
   ],
   "source": [
    "my_d = {1: 'Name', 2: 'Age', 3: 'Salary', 4: 'Salary'}\n",
    "print(type(my_d))\n",
    "print(my_d[2])\n",
    "\n",
    "for key, value in my_d.items():\n",
    "    print(str(key) + \" : \" + value)"
   ]
  },
  {
   "cell_type": "markdown",
   "metadata": {},
   "source": [
    "##### ARGs abd KWARGs"
   ]
  },
  {
   "cell_type": "code",
   "execution_count": 5,
   "metadata": {},
   "outputs": [
    {
     "name": "stdout",
     "output_type": "stream",
     "text": [
      "5\n"
     ]
    }
   ],
   "source": [
    "def sum_of(a, b):\n",
    "    return a + b\n",
    "\n",
    "print(sum_of(2, 3))"
   ]
  },
  {
   "cell_type": "code",
   "execution_count": 6,
   "metadata": {},
   "outputs": [
    {
     "name": "stdout",
     "output_type": "stream",
     "text": [
      "15\n"
     ]
    }
   ],
   "source": [
    "def sum_of(*args):\n",
    "    sum = 0\n",
    "    for x in args:\n",
    "        sum += x\n",
    "    return sum\n",
    "\n",
    "print(sum_of(1, 2, 3, 4, 5))"
   ]
  },
  {
   "cell_type": "code",
   "execution_count": 7,
   "metadata": {},
   "outputs": [
    {
     "name": "stdout",
     "output_type": "stream",
     "text": [
      "13.97\n"
     ]
    }
   ],
   "source": [
    "def sum_of(**kwargs):\n",
    "    sum = 0\n",
    "    for k, v in kwargs.items():\n",
    "        sum += v\n",
    "    return round(sum, 2)\n",
    "\n",
    "print(sum_of(coffee=2.99, cake=3.99, sandwich=6.99))\n",
    "\n",
    "## Pass any amount of key word arguments"
   ]
  },
  {
   "cell_type": "code",
   "execution_count": 8,
   "metadata": {},
   "outputs": [
    {
     "name": "stdout",
     "output_type": "stream",
     "text": [
      "{'id': 12458, 'name': 'Paul', 'department': 'House Floor'}\n",
      "{'id': '12458', 'name': 'Paul', 'department': 'House Floor'}\n"
     ]
    }
   ],
   "source": [
    "# Example: Employees list\n",
    "\n",
    "## Tuples not great for this, use dictionaries\n",
    "\n",
    "employee_list = [(12345, \"John\", \"Kitchen\"), (12458, \"Paul\", \"House Floor\")]\n",
    "\n",
    "def get_employee(id):\n",
    "    for employee in employee_list:\n",
    "        if employee[0] == id:\n",
    "            return {\"id\": employee[0], \"name\": employee[1], \"department\": employee[2]}\n",
    "\n",
    "print(get_employee(12458))\n",
    "\n",
    "## Dictionaries\n",
    "\n",
    "employee_dict = {\n",
    "    12345: {\n",
    "        \"id\": \"12345\",\n",
    "        \"name\": \"John\", \n",
    "        \"department\": \"Kitchen\"    \n",
    "    },\n",
    "    12458: {\n",
    "        \"id\": \"12458\",\n",
    "        \"name\": \"Paul\", \n",
    "        \"department\": \"House Floor\"    \n",
    "    }\n",
    "}\n",
    "\n",
    "def get_employee_from_dict(id):\n",
    "    return employee_dict[id];\n",
    "\n",
    "print(get_employee_from_dict(12458));"
   ]
  },
  {
   "cell_type": "markdown",
   "metadata": {},
   "source": [
    "## Programming Assignment: Data Management System\n",
    "\n",
    "The main objective of this assignment is for you to learn how to read data from a file, manipulate and analyze that data using programming constructs, and then output the results to a new file. This exercise will help you understand file handling, data manipulation, and the practical application of loops and conditionals in data processing.\n",
    "\n",
    "You are provided with a CSV file named weather_data.csv which contains daily weather records over one month. The data includes the date, maximum temperature, minimum temperature, and precipitation levels.\n",
    "\n",
    "Your task is to create a program that reads this data, calculates the average maximum temperature, the average minimum temperature, and total precipitation for the month. Finally, your program should output these results into a new file named monthly_weather_summary.txt."
   ]
  },
  {
   "cell_type": "code",
   "execution_count": 9,
   "metadata": {},
   "outputs": [
    {
     "name": "stdout",
     "output_type": "stream",
     "text": [
      "CSV file 'weather_data.csv' has been created with random weather data for the current month.\n"
     ]
    }
   ],
   "source": [
    "import csv\n",
    "import random\n",
    "from datetime import date, timedelta\n",
    "\n",
    "def generate_weather_data(start_date, num_days):\n",
    "    \"\"\"Generate random weather data.\"\"\"\n",
    "    for i in range(num_days):\n",
    "        # Generate a date\n",
    "        current_date = start_date + timedelta(days=i)\n",
    "        # Generate random max temperature between 20°C and 35°C\n",
    "        max_temp = random.uniform(20, 35)\n",
    "        # Generate random min temperature between 10°C and max_temp\n",
    "        min_temp = random.uniform(10, max_temp)\n",
    "        # Generate random precipitation level between 0 mm and 20 mm\n",
    "        precipitation = random.uniform(0, 20)\n",
    "        yield [current_date.strftime('%Y-%m-%d'), round(max_temp, 1), round(min_temp, 1), round(precipitation, 1)]\n",
    "\n",
    "def create_csv(filename, data):\n",
    "    \"\"\"Create a CSV file from the generated data.\"\"\"\n",
    "    with open(filename, mode='w', newline='') as file:\n",
    "        writer = csv.writer(file)\n",
    "        writer.writerow(['Date', 'Max Temperature (°C)', 'Min Temperature (°C)', 'Precipitation (mm)'])\n",
    "        for row in data:\n",
    "            writer.writerow(row)\n",
    "\n",
    "# Set the start date for the data\n",
    "start_date = date.today().replace(day=1)  # Start from the first of this month\n",
    "# Generate 30 days of data\n",
    "weather_data = generate_weather_data(start_date, 30)\n",
    "# Create the CSV file\n",
    "create_csv('weather_data.csv', weather_data)\n",
    "\n",
    "print(\"CSV file 'weather_data.csv' has been created with random weather data for the current month.\")"
   ]
  },
  {
   "cell_type": "markdown",
   "metadata": {},
   "source": [
    "1. Open and read the data from weather_data.csv.\n",
    "2. Extract the relevant data for maximum temperature, minimum temperature, and precipitation.\n",
    "3. Calculate the average of the maximum and minimum temperatures.\n",
    "4. Calculate the total precipitation for the month.\n",
    "5. Output the calculated averages and total precipitation to monthly_weather_summary.txt.\n"
   ]
  },
  {
   "cell_type": "code",
   "execution_count": 10,
   "metadata": {},
   "outputs": [
    {
     "name": "stdout",
     "output_type": "stream",
     "text": [
      "         Date  Max Temperature (°C)  Min Temperature (°C)  Precipitation (mm)\n",
      "0  2024-07-01                  29.7                  20.5                17.5\n",
      "1  2024-07-02                  29.3                  28.6                15.6\n",
      "2  2024-07-03                  25.0                  20.3                 2.8\n",
      "3  2024-07-04                  27.0                  25.7                 4.1\n",
      "4  2024-07-05                  29.5                  20.8                 3.7\n",
      "\n",
      "the average maximimum temperature is 27.16°C\n",
      "the average minimum temperature is 20.32°C\n",
      "the total precipitation is 304.9 mm\n",
      "File 'monthly_weather_summary.txt' has been created with the calculated averages and total precipitation.\n"
     ]
    }
   ],
   "source": [
    "# Read the CSV file\n",
    "df = pd.read_csv('weather_data.csv')\n",
    "\n",
    "# Display the dataframe\n",
    "print(df.head(5))\n",
    "\n",
    "# Extract relevant data\n",
    "max_temp = df['Max Temperature (°C)']\n",
    "min_temp = df['Min Temperature (°C)']\n",
    "precipitation = df['Precipitation (mm)']\n",
    "\n",
    "print()\n",
    "\n",
    "averages_max = (max_temp.mean())\n",
    "print (\"the average maximimum temperature is \" + str(round(averages_max, 2)) + \"°C\")\n",
    "\n",
    "averages_min = (min_temp.mean())\n",
    "print (\"the average minimum temperature is \" + str(round(averages_min, 2)) + \"°C\")\n",
    "\n",
    "total_precipitation = (precipitation.sum())\n",
    "print (\"the total precipitation is \" + str(round(total_precipitation, 2)) + \" mm\")\n",
    "\n",
    "\n",
    "# Specify the file path\n",
    "file_path = '/Users/dylan/Documents/Phase1/MetaPython/monthly_weather_summary.txt'\n",
    "\n",
    "# Open the file in write mode\n",
    "with open(file_path, 'w') as file:\n",
    "    file.write(f\"The average maximum temperature is {round(averages_max, 2)}°C\\n\")\n",
    "    file.write(f\"The average minimum temperature is {round(averages_min, 2)}°C\\n\")\n",
    "    file.write(f\"The total precipitation is {round(total_precipitation, 2)} mm\\n\")\n",
    "\n",
    "print(\"File 'monthly_weather_summary.txt' has been created with the calculated averages and total precipitation.\")\n",
    "\n",
    "# The 'w' mode stands for \"write mode\". When a file is opened in write mode, it allows you to write data to the file. If the file doesn't exist, it will be created. If the file already exists, its contents will be truncated (i.e., cleared) before you start writing.\n",
    "\n"
   ]
  },
  {
   "cell_type": "markdown",
   "metadata": {},
   "source": [
    "## Programming Assignment: Weather Data Analysis\n",
    "\n",
    "The primary objective of this assignment is to help students learn and apply functions, loops, and data structures in programming. You will create a program to manage a book inventory, implementing features to add, sort, search, and display books using a list of dictionaries.\n",
    "\n",
    "You are tasked with creating a program to manage an inventory of books.\n",
    "\n",
    "Each book should be stored as a dictionary containing details like title, author, and year of publication.\n",
    "\n",
    "Your program will allow users to add new books, display all books, search for a book by title, and sort the inventory by year.\n",
    "\n",
    "Steps to Follow:\n",
    "\n",
    "1. Define a function to add new books to the inventory.\n",
    "2. Define a function to display all books in the inventory.\n",
    "3. Implement a function to search for books by title.\n",
    "4. Create a function to sort the inventory by the year of publication.\n",
    "5. Ensure the user can interact with the program through a menu system that uses the console for input and output.\n",
    "\n",
    "\n",
    "Expected output:\n",
    "```\n",
    "Books Sorted by Year:\n",
    "- Title: \"To Kill a Mockingbird\", Author: Harper Lee, Year: 1960\n",
    "- Title: \"1984\", Author: George Orwell, Year: 1949\n",
    "- Title: \"Brave New World\", Author: Aldous Huxley, Year: 1932\n",
    "```"
   ]
  },
  {
   "cell_type": "code",
   "execution_count": 11,
   "metadata": {},
   "outputs": [
    {
     "name": "stdout",
     "output_type": "stream",
     "text": [
      "{'title': 'The Great Gatsby', 'author': 'F. Scott Fitzgerald', 'year': 1925}\n",
      "[{'title': 'The Great Gatsby', 'author': 'F. Scott Fitzgerald', 'year': 1925}, {'title': '1984', 'author': 'George Orwell', 'year': 1949}, {'title': 'To Kill a Mockingbird', 'author': 'Harper Lee', 'year': 1960}]\n"
     ]
    }
   ],
   "source": [
    "def add_book(title, author, year):\n",
    "    inventry[title] = {\n",
    "        \"title\": title,\n",
    "        \"author\": author,\n",
    "        \"year\": year\n",
    "    }\n",
    "\n",
    "inventry = {\n",
    "    \"The Great Gatsby\": {\n",
    "        \"title\": \"The Great Gatsby\",\n",
    "        \"author\": \"F. Scott Fitzgerald\",\n",
    "        \"year\": 1925\n",
    "    },\n",
    "    \"To Kill a Mockingbird\": {\n",
    "        \"title\": \"To Kill a Mockingbird\",\n",
    "        \"author\": \"Harper Lee\",\n",
    "        \"year\": 1960\n",
    "        },\n",
    "    \"1984\": {\n",
    "        \"title\": \"1984\",\n",
    "        \"author\": \"George Orwell\",\n",
    "        \"year\": 1949\n",
    "    }\n",
    "}\n",
    "\n",
    "print(inventry[\"The Great Gatsby\"])\n",
    "\n",
    "def sort_books(sort_by):\n",
    "    return sorted(inventry.values(), key=lambda x: x[sort_by])\n",
    "\n",
    "print(sort_books('year'))"
   ]
  },
  {
   "cell_type": "code",
   "execution_count": 12,
   "metadata": {},
   "outputs": [
    {
     "name": "stdout",
     "output_type": "stream",
     "text": [
      "Title: The Great Gatsby, Author: F. Scott Fitzgerald, Year: 1925\n",
      "Title: Brave New World, Author: Aldous Huxley, Year: 1932\n",
      "Title: 1984, Author: George Orwell, Year: 1949\n",
      "Title: To Kill a Mockingbird, Author: Harper Lee, Year: 1960\n"
     ]
    }
   ],
   "source": [
    "def add_book(inventory, title, author, year):\n",
    "    # Check for duplicates\n",
    "    if title in [book['title'] for book in inventory]:\n",
    "        print(f\"Warning: Book with title '{title}' already exists.\")\n",
    "        return\n",
    "    inventory.append({\n",
    "        \"title\": title,\n",
    "        \"author\": author,\n",
    "        \"year\": year\n",
    "    })\n",
    "\n",
    "def print_books(inventory):\n",
    "    for book in inventory:\n",
    "        print(f\"Title: {book['title']}, Author: {book['author']}, Year: {book['year']}\")\n",
    "\n",
    "def sort_books(inventory, sort_by='year'):\n",
    "    return sorted(inventory, key=lambda x: x[sort_by])\n",
    "\n",
    "# Initial inventory setup\n",
    "inventory = [\n",
    "    {\"title\": \"The Great Gatsby\", \"author\": \"F. Scott Fitzgerald\", \"year\": 1925},\n",
    "    {\"title\": \"To Kill a Mockingbird\", \"author\": \"Harper Lee\", \"year\": 1960},\n",
    "    {\"title\": \"1984\", \"author\": \"George Orwell\", \"year\": 1949}\n",
    "]\n",
    "\n",
    "# Adding a book\n",
    "add_book(inventory, \"Brave New World\", \"Aldous Huxley\", 1932)\n",
    "\n",
    "# Displaying sorted books\n",
    "sorted_books = sort_books(inventory)\n",
    "print_books(sorted_books)\n"
   ]
  },
  {
   "cell_type": "markdown",
   "metadata": {},
   "source": [
    "Write a Python function called find_duplicates that takes in a list of integers as input and returns a new list containing only the duplicate elements from the original list. The order of the elements in the new list should be the same as their first occurrence in the original list.\n",
    "\n",
    "For example, if the input list is [1, 2, 3, 2, 4, 3, 5, 6, 5], the function should return [2, 3, 5] because these are the elements that appear more than once in the original list.\n",
    "\n",
    "You can assume that the input list will only contain integers.\n",
    "\n",
    "Your task is to implement the find_duplicates function.\n",
    "\n"
   ]
  },
  {
   "cell_type": "markdown",
   "metadata": {},
   "source": [
    "# Module 3"
   ]
  },
  {
   "cell_type": "markdown",
   "metadata": {},
   "source": [
    "Introduction\n",
    "In this exercise, you will practice the use of an algorithm to make a cup of instant coffee. The purpose is to lay out the steps required in order to get the final product. \n",
    "\n",
    "Instructions\n",
    "Step 1: Start with the inputs - what is needed to make a cup of instant coffee?\n",
    "\n",
    "Step 2: Think about all the steps required in the physical aspect of making a cup of instant coffee.\n",
    "\n",
    "Step 3: Consider the edge cases of optional things like milk or sugar, some people may want it. \n",
    "\n",
    "Step 4: The algorithm when complete should have as its final result a cup of coffee.\n",
    "\n",
    "Tips: Planning is key with any algorithm. Make sure you have all the steps neatly laid out. \n",
    "\n"
   ]
  },
  {
   "cell_type": "code",
   "execution_count": null,
   "metadata": {},
   "outputs": [],
   "source": []
  }
 ],
 "metadata": {
  "kernelspec": {
   "display_name": "AIEng1",
   "language": "python",
   "name": "python3"
  },
  "language_info": {
   "codemirror_mode": {
    "name": "ipython",
    "version": 3
   },
   "file_extension": ".py",
   "mimetype": "text/x-python",
   "name": "python",
   "nbconvert_exporter": "python",
   "pygments_lexer": "ipython3",
   "version": "3.12.3"
  }
 },
 "nbformat": 4,
 "nbformat_minor": 2
}
